{
 "cells": [
  {
   "cell_type": "code",
   "execution_count": 1,
   "metadata": {},
   "outputs": [],
   "source": [
    "import io\n",
    "import glob\n",
    "import os\n",
    "from os import listdir, rmdir\n",
    "import cv2"
   ]
  },
  {
   "cell_type": "code",
   "execution_count": 7,
   "metadata": {},
   "outputs": [],
   "source": [
    "targ_folder = './fg/'\n",
    "dest_folder = './fg_mask/'\n",
    "\n",
    "paths = glob.glob(targ_folder+'*')\n",
    "\n",
    "for path in paths:\n",
    "    img_name = path.split('/')[-1].split('\\\\')[-1].split('.')[0].split('_')\n",
    "    final_name = img_name[0]+\"_mask_\"+img_name[1]+\".jpg\"\n",
    "    img = cv2.imread(path, cv2.IMREAD_UNCHANGED)\n",
    "    mask = (img[:,:,3]!=0)*255 #making transparent regions 0 and opaque regions white for alpha channel to make it as mask\n",
    "    cv2.imwrite(dest_folder+final_name, mask)"
   ]
  }
 ],
 "metadata": {
  "kernelspec": {
   "display_name": "Python 3",
   "language": "python",
   "name": "python3"
  },
  "language_info": {
   "codemirror_mode": {
    "name": "ipython",
    "version": 3
   },
   "file_extension": ".py",
   "mimetype": "text/x-python",
   "name": "python",
   "nbconvert_exporter": "python",
   "pygments_lexer": "ipython3",
   "version": "3.7.4"
  }
 },
 "nbformat": 4,
 "nbformat_minor": 2
}
